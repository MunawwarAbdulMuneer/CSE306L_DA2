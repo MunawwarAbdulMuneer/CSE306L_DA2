{
  "cells": [
    {
      "cell_type": "code",
      "execution_count": 1,
      "id": "bb365162-a459-43fc-9655-ed6676314224",
      "metadata": {
        "id": "bb365162-a459-43fc-9655-ed6676314224",
        "colab": {
          "base_uri": "https://localhost:8080/"
        },
        "outputId": "892b50ba-5557-4853-fd05-2e64d6024d4a"
      },
      "outputs": [
        {
          "output_type": "stream",
          "name": "stdout",
          "text": [
            "Mounted at /content/drive/\n"
          ]
        }
      ],
      "source": [
        "import csv\n",
        "import numpy as np\n",
        "import pandas as pd\n",
        "\n",
        "from google.colab import drive\n",
        "drive.mount('/content/drive/')"
      ]
    },
    {
      "cell_type": "code",
      "execution_count": 2,
      "id": "d9254bc0-72b9-4d9a-948e-614278f60741",
      "metadata": {
        "id": "d9254bc0-72b9-4d9a-948e-614278f60741",
        "colab": {
          "base_uri": "https://localhost:8080/"
        },
        "outputId": "332a2cfc-1f34-4a75-f239-7e16d81f2682"
      },
      "outputs": [
        {
          "output_type": "stream",
          "name": "stdout",
          "text": [
            "[==================================================] 100.0% 1662.8/1662.8MB downloaded\n"
          ]
        }
      ],
      "source": [
        "import gensim.parsing\n",
        "import gensim.downloader as api\n",
        "import spacy\n",
        "from datetime import date\n",
        "\n",
        "wv = gensim.downloader.load(\"word2vec-google-news-300\")\n",
        "nlp = spacy.load(\"en_core_web_sm\")"
      ]
    },
    {
      "cell_type": "code",
      "execution_count": 3,
      "id": "75b275a8-3a62-4339-867a-8cd10f6ff6a9",
      "metadata": {
        "id": "75b275a8-3a62-4339-867a-8cd10f6ff6a9"
      },
      "outputs": [],
      "source": [
        "data1 = pd.read_csv('/content/drive/My Drive/21BCE0096/CSE206L/datasets/Disease Symptom Prediction/dataset.csv', delimiter=\",\")\n",
        "data2 = pd.read_csv('/content/drive/My Drive/21BCE0096/CSE206L/datasets/Disease Symptom Prediction/symptom_Description.csv', delimiter=\",\")\n",
        "data3 = pd.read_csv('/content/drive/My Drive/21BCE0096/CSE206L/datasets/Disease Symptom Prediction/Symptom-severity.csv', delimiter=\",\")\n",
        "data4 = pd.read_csv('/content/drive/My Drive/21BCE0096/CSE206L/datasets/Disease Symptom Prediction/symptom_precaution.csv', delimiter=\",\")\n",
        "\n",
        "df = pd.DataFrame(data1)\n",
        "diseases = pd.DataFrame(data2)\n",
        "symptoms = pd.DataFrame(data3)\n",
        "precautions = pd.DataFrame(data4)\n",
        "\n",
        "dataset = pd.DataFrame(columns = np.union1d([\"Disease\"], symptoms.Symptom))\n",
        "for i in range(len(df)):\n",
        "    row = df.loc[i,:]\n",
        "    row = row[~pd.isnull(row)]\n",
        "    row2 = pd.Series(0, index = dataset.columns)\n",
        "    if (row[\"Disease\"].rstrip() in diseases.values):\n",
        "        index = diseases.index[diseases['Disease'] == row[\"Disease\"].strip()]\n",
        "        row2[\"Disease\"] = index\n",
        "        for symptom in row:\n",
        "            row2[symptom.strip()] = 1\n",
        "        dataset.loc[len(dataset)] = row2\n",
        "\n",
        "for column in dataset:\n",
        "    if ((dataset[column] == 0).all()):\n",
        "        dataset = dataset.drop([column], axis = 1)\n",
        "\n",
        "#dataset"
      ]
    },
    {
      "cell_type": "code",
      "source": [
        "def preprocess(string):\n",
        "    result = string.replace(\"diarrhoea\", \"diarrhea\")\n",
        "    result = result.strip().replace(\"_\", \" \")\n",
        "    result = \" \".join([token.lemma_ for token in nlp(result)])\n",
        "    result = gensim.parsing.preprocessing.remove_stopwords(result)\n",
        "    result = [x.strip() for x in result.split()]\n",
        "    return result\n",
        "\n",
        "def find_similarity(s1, s2):\n",
        "    result = 0\n",
        "    for word1 in s1:\n",
        "        max_similarity = 0\n",
        "        for word2 in s2:\n",
        "            if (word1 == word2):\n",
        "                temp = 1\n",
        "            elif ((word1 in wv.key_to_index) and (word2 in wv.key_to_index)):\n",
        "                temp = wv.similarity(word1, word2)\n",
        "            else:\n",
        "                temp = 0\n",
        "            if (temp > max_similarity):\n",
        "                max_similarity = temp\n",
        "        result += max_similarity\n",
        "    result /= len(s1)\n",
        "    return result\n",
        "\n",
        "symptom_list = symptoms.Symptom\n",
        "symptom_list = symptom_list.apply(lambda x: preprocess(x))\n",
        "\n",
        "def get_symptoms(user_symptoms):\n",
        "    result = []\n",
        "    for user_symptom in user_symptoms.split(\",\"):\n",
        "        user_symptom = preprocess(user_symptom)\n",
        "        most_similar = \"cat\"\n",
        "        max_similarity = 0\n",
        "        for symptom in symptom_list:\n",
        "            temp = find_similarity(user_symptom, symptom)\n",
        "            if (temp > max_similarity):\n",
        "                max_similarity = temp\n",
        "                most_similar = symptom\n",
        "        for symptom in symptoms.Symptom:\n",
        "            if (preprocess(symptom) == most_similar):\n",
        "                result.append(symptom)\n",
        "                break\n",
        "    return result"
      ],
      "metadata": {
        "id": "KRw_RZ7vVpcc"
      },
      "id": "KRw_RZ7vVpcc",
      "execution_count": 4,
      "outputs": []
    },
    {
      "cell_type": "code",
      "execution_count": 5,
      "id": "92bfe074-5f5c-4b2a-aec7-f854f8c30df4",
      "metadata": {
        "colab": {
          "base_uri": "https://localhost:8080/"
        },
        "id": "92bfe074-5f5c-4b2a-aec7-f854f8c30df4",
        "outputId": "5690a995-d962-4c60-80e7-b0d92ab01cc5"
      },
      "outputs": [
        {
          "output_type": "stream",
          "name": "stdout",
          "text": [
            "Diabetes\n",
            "Diabetes\n"
          ]
        }
      ],
      "source": [
        "from sklearn.naive_bayes import BernoulliNB\n",
        "from sklearn.model_selection import train_test_split\n",
        "from sklearn.metrics import accuracy_score, confusion_matrix\n",
        "\n",
        "target_label = \"Disease\"\n",
        "target = dataset[target_label]\n",
        "features = dataset.drop([target_label], axis=1)\n",
        "\n",
        "def result(featurelist, model):\n",
        "    X_train, X_test, y_train, y_test = train_test_split(featurelist, target, test_size = 0.2, shuffle = True, random_state = 7)\n",
        "    model.fit(X_train.values, y_train.values)\n",
        "    prediction = model.predict(X_test.values)\n",
        "    print(\"Test result:\", model.score(X_train.values, y_train.values))\n",
        "    print(\"Train result:\", model.score(X_test.values, y_test.values))\n",
        "    print(\"Confusion Matrix:\\n\",confusion_matrix(prediction,y_test.values))\n",
        "\n",
        "def train():\n",
        "    target_label = \"Disease\"\n",
        "    target = dataset[target_label]\n",
        "    features = dataset.drop([target_label], axis=1)\n",
        "    X_train, X_test, y_train, y_test = train_test_split(features, target, test_size = 0.2, shuffle = True, random_state = 7)\n",
        "    model.fit(X_train.values, y_train.values)\n",
        "\n",
        "model = BernoulliNB()\n",
        "\n",
        "def disease_name(index):\n",
        "    return diseases.iloc[index,0]\n",
        "\n",
        "print(disease_name(dataset.loc[79,\"Disease\"]))\n",
        "inp = dataset.loc[79]\n",
        "inp = inp.drop([\"Disease\"])\n",
        "\n",
        "train()\n",
        "print(disease_name(model.predict([inp])[0]))"
      ]
    },
    {
      "cell_type": "code",
      "execution_count": 6,
      "id": "a98972cf-165c-49a4-b362-8ca7f52d934b",
      "metadata": {
        "scrolled": true,
        "id": "a98972cf-165c-49a4-b362-8ca7f52d934b"
      },
      "outputs": [],
      "source": [
        "def run_interface():\n",
        "  severity_scale = {1:'Normal', 2:'Normal', 3:'Effected', 4:'Effected', 5:'Effected', 6:'Severe', 7:'Severe'}\n",
        "\n",
        "  print(\"Welcome, ABCXYZ!\")\n",
        "  user_symptoms = get_symptoms(input(\"Enter the symptoms: \"))\n",
        "\n",
        "  symptom_row = pd.Series(0, index = dataset.columns)\n",
        "  symptom_row = symptom_row.to_frame().T\n",
        "  symptom_entry = symptom_row.drop([\"Disease\"], axis = 1)\n",
        "\n",
        "  severity = 1\n",
        "  for symptom in user_symptoms:\n",
        "      symptom = symptom.strip().replace(\" \", \"_\")\n",
        "      if (symptom.strip() in symptoms.values):\n",
        "          symptom_entry[symptom] = 1\n",
        "          temp = symptoms.loc[symptoms.Symptom == symptom].weight\n",
        "          temp = int(temp.iloc[0])\n",
        "          severity = max(severity, temp)\n",
        "\n",
        "  prediction = model.predict(symptom_entry.values)[0]\n",
        "  symptom_row[\"Disease\"] = prediction\n",
        "  disease = disease_name(prediction)\n",
        "\n",
        "  print(\"-\" * 50, \"Patient Report\", \"-\" * 50)\n",
        "  print(\"Date:\", date.today().strftime(\"%d/%m/%Y\"))\n",
        "  print(\"Patient ID: 7439802\")\n",
        "  print(\"Name: ABCXYZ\")\n",
        "  report_symptoms = \", \".join([s.strip().replace(\"_\", \" \") for s in user_symptoms])\n",
        "  print(\"Symptoms reported:\", report_symptoms)\n",
        "  print(\"-\" * 116)\n",
        "\n",
        "  print(\"Diagnosis:\", disease)\n",
        "  print(\"Severity:\", severity_scale[severity], \"\\n\")\n",
        "  print(\"You are advised to take the following measures:\")\n",
        "  should_alert = False\n",
        "  actions = precautions.loc[precautions.Disease == disease]\n",
        "  actions = actions[~pd.isnull(actions)]\n",
        "  for i in range(4):\n",
        "    action = actions[\"Precaution_\" + str(i + 1)].to_string(header=False, index=False)\n",
        "    if (action != 'NaN'):\n",
        "      print(\"-\", action)\n",
        "      if ((severity > 5) or (action.lower().find('consult') != -1) or (action.lower().find('ambulance') != -1)):\n",
        "        should_alert = True\n",
        "  if (should_alert):\n",
        "    print(\"\\nThe hospital authority has been alerted. One of our healthcare professionals will be in touch with you soon.\")\n",
        "  print(\"-\" * 116)\n",
        "  return symptom_row\n"
      ]
    },
    {
      "cell_type": "code",
      "execution_count": 7,
      "id": "6a6cf6d4-7cec-4a87-8dc3-90cc0afc94ac",
      "metadata": {
        "colab": {
          "base_uri": "https://localhost:8080/"
        },
        "id": "6a6cf6d4-7cec-4a87-8dc3-90cc0afc94ac",
        "outputId": "5cac3dfb-b2c5-4a50-bcea-cea8fa212aa5"
      },
      "outputs": [
        {
          "output_type": "stream",
          "name": "stdout",
          "text": [
            "Enter the symptoms: cramps, fatigue, weight gain, swollen legs\n",
            "Welcome, ABCXYZ!\n",
            "-------------------------------------------------- Patient Report --------------------------------------------------\n",
            "Date: 12/04/2024\n",
            "Patient ID: 7439802\n",
            "Name: ABCXYZ\n",
            "Symptoms reported: cramps, fatigue, weight gain, swollen legs\n",
            "--------------------------------------------------------------------------------------------------------------------\n",
            "Diagnosis: Varicose veins\n",
            "Severity: Effected \n",
            "\n",
            "You are advised to take the following measures:\n",
            "- lie down flat and raise the leg high\n",
            "- use oinments\n",
            "- use vein compression\n",
            "- dont stand still for long\n",
            "--------------------------------------------------------------------------------------------------------------------\n"
          ]
        }
      ],
      "source": [
        "symptom_row = run_interface()\n",
        "dataset = pd.concat([dataset, symptom_row], ignore_index = True)\n",
        "train()\n",
        "#dataset"
      ]
    }
  ],
  "metadata": {
    "kernelspec": {
      "display_name": "Python 3 (ipykernel)",
      "language": "python",
      "name": "python3"
    },
    "language_info": {
      "codemirror_mode": {
        "name": "ipython",
        "version": 3
      },
      "file_extension": ".py",
      "mimetype": "text/x-python",
      "name": "python",
      "nbconvert_exporter": "python",
      "pygments_lexer": "ipython3",
      "version": "3.12.2"
    },
    "colab": {
      "provenance": []
    }
  },
  "nbformat": 4,
  "nbformat_minor": 5
}